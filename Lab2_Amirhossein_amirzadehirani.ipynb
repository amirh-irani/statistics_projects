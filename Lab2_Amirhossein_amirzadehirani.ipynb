{
 "cells": [
  {
   "cell_type": "markdown",
   "id": "3ecd232f",
   "metadata": {},
   "source": [
    "# Importing Moduls"
   ]
  },
  {
   "cell_type": "code",
   "execution_count": 1,
   "id": "5ddd3768",
   "metadata": {},
   "outputs": [],
   "source": [
    "import numpy as np\n",
    "import pandas as pd\n",
    "import seaborn as sns\n",
    "import matplotlib.pyplot as plt\n",
    "from IPython.display import display"
   ]
  },
  {
   "cell_type": "markdown",
   "id": "60721b65",
   "metadata": {},
   "source": [
    "### Importing the dataset from CSV file. "
   ]
  },
  {
   "cell_type": "markdown",
   "id": "e8bf1963",
   "metadata": {},
   "source": [
    "* first we need to import the csv file from the local document. "
   ]
  },
  {
   "cell_type": "code",
   "execution_count": 2,
   "id": "b4ab949d",
   "metadata": {},
   "outputs": [
    {
     "name": "stdout",
     "output_type": "stream",
     "text": [
      "(1338, 7)\n",
      "   age     sex     bmi  children smoker     region      charges\n",
      "0   19  female  27.900         0    yes  southwest  16884.92400\n",
      "1   18    male  33.770         1     no  southeast   1725.55230\n",
      "2   28    male  33.000         3     no  southeast   4449.46200\n",
      "3   33    male  22.705         0     no  northwest  21984.47061\n",
      "4   32    male  28.880         0     no  northwest   3866.85520\n",
      "5   31  female  25.740         0     no  southeast   3756.62160\n",
      "6   46  female  33.440         1     no  southeast   8240.58960\n",
      "7   37  female  27.740         3     no  northwest   7281.50560\n",
      "8   37    male  29.830         2     no  northeast   6406.41070\n",
      "9   60  female  25.840         0     no  northwest  28923.13692\n"
     ]
    }
   ],
   "source": [
    "dataset_frame = pd.read_csv('insurance.csv')\n",
    "print(dataset_frame.shape)\n",
    "print(dataset_frame.head(10))"
   ]
  },
  {
   "cell_type": "markdown",
   "metadata": {},
   "source": [
    "* We can create a function to distinguish the columns based on their type as categorical or quantitative. "
   ]
  },
  {
   "cell_type": "code",
   "execution_count": 3,
   "id": "de2e83ef",
   "metadata": {},
   "outputs": [],
   "source": [
    "def check_variables(df):\n",
    "    cols = df.columns\n",
    "    quantitative_cols = df._get_numeric_data().columns\n",
    "    categorical_cols = list(set(cols) - set(quantitative_cols))\n",
    "    return categorical_cols, list(set(quantitative_cols))"
   ]
  },
  {
   "cell_type": "markdown",
   "id": "e4020730",
   "metadata": {},
   "source": [
    "* Then we use the created function to find out which columns are categorical, and which are quantitative. "
   ]
  },
  {
   "cell_type": "code",
   "execution_count": 4,
   "id": "179286e8",
   "metadata": {},
   "outputs": [
    {
     "name": "stdout",
     "output_type": "stream",
     "text": [
      "categorical columns: ['sex', 'smoker', 'region']\n",
      "quantitativecolumns: ['children', 'bmi', 'charges', 'age']\n"
     ]
    }
   ],
   "source": [
    "cat_cols, quant_cols = check_variables(dataset_frame)\n",
    "print(f'categorical columns: {cat_cols}')\n",
    "print(f'quantitativecolumns: {quant_cols}') "
   ]
  },
  {
   "cell_type": "markdown",
   "id": "ce80f559",
   "metadata": {},
   "source": [
    "* So, we have three categorical and four quantitative features. \n",
    "* We now considering categoricaal variables and then move on to the quantitative variables. "
   ]
  },
  {
   "cell_type": "markdown",
   "id": "6a55ff54",
   "metadata": {},
   "source": [
    "### Categorical variables"
   ]
  },
  {
   "cell_type": "markdown",
   "id": "5f64d41a",
   "metadata": {},
   "source": [
    "#### 1- sex"
   ]
  },
  {
   "cell_type": "code",
   "execution_count": 5,
   "id": "3f455abb",
   "metadata": {},
   "outputs": [
    {
     "data": {
      "text/plain": [
       "count     1338\n",
       "unique       2\n",
       "top       male\n",
       "freq       676\n",
       "Name: sex, dtype: object"
      ]
     },
     "execution_count": 5,
     "metadata": {},
     "output_type": "execute_result"
    }
   ],
   "source": [
    "dataset_frame['sex'].describe()"
   ]
  },
  {
   "cell_type": "markdown",
   "id": "9e50fda4",
   "metadata": {},
   "source": [
    "* The frequency of the 'sex' feature is 1338, with 2 categories, which is 'male' and 676 number of cases. "
   ]
  },
  {
   "cell_type": "code",
   "execution_count": 6,
   "id": "d16f885a",
   "metadata": {},
   "outputs": [
    {
     "data": {
      "text/plain": [
       "male      676\n",
       "female    662\n",
       "Name: sex, dtype: int64"
      ]
     },
     "execution_count": 6,
     "metadata": {},
     "output_type": "execute_result"
    }
   ],
   "source": [
    "dataset_frame['sex'].value_counts()"
   ]
  },
  {
   "cell_type": "markdown",
   "id": "487904e5",
   "metadata": {},
   "source": [
    "* Also we see there are 662 female cases. So the numbers are so close to each other. "
   ]
  },
  {
   "cell_type": "code",
   "execution_count": 7,
   "id": "a7c7e9b7",
   "metadata": {},
   "outputs": [
    {
     "data": {
      "text/plain": [
       "<AxesSubplot:ylabel='sex'>"
      ]
     },
     "execution_count": 7,
     "metadata": {},
     "output_type": "execute_result"
    },
    {
     "data": {
      "image/png": "[encoded data removed]",
      "text/plain": [
       "<Figure size 432x288 with 1 Axes>"
      ]
     },
     "metadata": {},
     "output_type": "display_data"
    }
   ],
   "source": [
    "dataset_frame.groupby('sex').size().plot(kind='pie', ylabel='sex', autopct='%.2f%%')"
   ]
  },
  {
   "cell_type": "markdown",
   "id": "b20e0324",
   "metadata": {},
   "source": [
    "* As it is shown in the pie chart, almost 50% for each categoriy is provided. This is also visible in the next bar chart."
   ]
  },
  {
   "cell_type": "code",
   "execution_count": 10,
   "id": "5ee2754a",
   "metadata": {},
   "outputs": [
    {
     "data": {
      "text/plain": [
       "[Text(0, 0, '662'), Text(0, 0, '676')]"
      ]
     },
     "execution_count": 10,
     "metadata": {},
     "output_type": "execute_result"
    },
    {
     "data": {
      "image/png": "[encoded data removed]",
      "text/plain": [
       "<Figure size 576x432 with 1 Axes>"
      ]
     },
     "metadata": {
      "needs_background": "light"
     },
     "output_type": "display_data"
    }
   ],
   "source": [
    "plt.figure(figsize=(8,6))\n",
    "ax = dataset_frame.groupby('sex').size().plot(kind='bar', rot=0, colormap='Paired')\n",
    "ax.bar_label(ax.containers[0])"
   ]
  },
  {
   "cell_type": "markdown",
   "id": "78ba4a3f",
   "metadata": {},
   "source": [
    "#### 2- Smoker"
   ]
  },
  {
   "cell_type": "code",
   "execution_count": 12,
   "id": "b12563f5",
   "metadata": {},
   "outputs": [
    {
     "data": {
      "text/plain": [
       "count     1338\n",
       "unique       2\n",
       "top         no\n",
       "freq      1064\n",
       "Name: smoker, dtype: object"
      ]
     },
     "execution_count": 12,
     "metadata": {},
     "output_type": "execute_result"
    }
   ],
   "source": [
    "dataset_frame['smoker'].describe()"
   ]
  },
  {
   "cell_type": "code",
   "execution_count": 13,
   "id": "40fa9e94",
   "metadata": {},
   "outputs": [
    {
     "data": {
      "text/plain": [
       "no     1064\n",
       "yes     274\n",
       "Name: smoker, dtype: int64"
      ]
     },
     "execution_count": 13,
     "metadata": {},
     "output_type": "execute_result"
    }
   ],
   "source": [
    "dataset_frame.smoker.value_counts()"
   ]
  },
  {
   "cell_type": "markdown",
   "id": "5ed09022",
   "metadata": {},
   "source": [
    "* The second categorical feature, 'smoker', is nothing like 'sex'. The vase majority of the sample data are not smoker. \n",
    "* As it is shown in the pie chart, and bar chart after that, in each 5 person, almost one of them is smoker. "
   ]
  },
  {
   "cell_type": "code",
   "execution_count": 14,
   "id": "463cb725",
   "metadata": {},
   "outputs": [
    {
     "data": {
      "text/plain": [
       "<AxesSubplot:ylabel='smoker'>"
      ]
     },
     "execution_count": 14,
     "metadata": {},
     "output_type": "execute_result"
    },
    {
     "data": {
      "image/png": "[encoded data removed]",
      "text/plain": [
       "<Figure size 432x288 with 1 Axes>"
      ]
     },
     "metadata": {},
     "output_type": "display_data"
    }
   ],
   "source": [
    "dataset_frame.groupby('smoker').size().plot(kind='pie', ylabel='smoker', autopct='%.2f%%')"
   ]
  },
  {
   "cell_type": "code",
   "execution_count": 16,
   "id": "178b4832",
   "metadata": {},
   "outputs": [
    {
     "data": {
      "text/plain": [
       "[Text(0, 0, '1064'), Text(0, 0, '274')]"
      ]
     },
     "execution_count": 16,
     "metadata": {},
     "output_type": "execute_result"
    },
    {
     "data": {
      "image/png": "[encoded data removed]",
      "text/plain": [
       "<Figure size 576x432 with 1 Axes>"
      ]
     },
     "metadata": {
      "needs_background": "light"
     },
     "output_type": "display_data"
    }
   ],
   "source": [
    "plt.figure(figsize=(8,6))\n",
    "ax = dataset_frame.groupby('smoker').size().plot(kind='bar', rot=30, colormap='Set1')\n",
    "ax.bar_label(ax.containers[0])"
   ]
  },
  {
   "cell_type": "markdown",
   "id": "8aca66b7",
   "metadata": {},
   "source": [
    "#### 3- Region"
   ]
  },
  {
   "cell_type": "code",
   "execution_count": 17,
   "id": "24b351d2",
   "metadata": {},
   "outputs": [
    {
     "data": {
      "text/plain": [
       "count          1338\n",
       "unique            4\n",
       "top       southeast\n",
       "freq            364\n",
       "Name: region, dtype: object"
      ]
     },
     "execution_count": 17,
     "metadata": {},
     "output_type": "execute_result"
    }
   ],
   "source": [
    "dataset_frame['region'].describe()"
   ]
  },
  {
   "cell_type": "code",
   "execution_count": 18,
   "id": "be8b92f0",
   "metadata": {},
   "outputs": [
    {
     "data": {
      "text/plain": [
       "southeast    364\n",
       "southwest    325\n",
       "northwest    325\n",
       "northeast    324\n",
       "Name: region, dtype: int64"
      ]
     },
     "execution_count": 18,
     "metadata": {},
     "output_type": "execute_result"
    }
   ],
   "source": [
    "dataset_frame.region.value_counts()"
   ]
  },
  {
   "cell_type": "markdown",
   "id": "67e1a46b",
   "metadata": {},
   "source": [
    "* Third feature is 'region'. with 4 different categories as areas of a city or country. \n",
    "* We may see that three cateegories are almost same in frequency, however, the last one has a considerable differnce from the others. "
   ]
  },
  {
   "cell_type": "code",
   "execution_count": 21,
   "id": "a7447ad7",
   "metadata": {},
   "outputs": [
    {
     "data": {
      "text/plain": [
       "<AxesSubplot:ylabel='region'>"
      ]
     },
     "execution_count": 21,
     "metadata": {},
     "output_type": "execute_result"
    },
    {
     "data": {
      "image/png": "[encoded data removed]",
      "text/plain": [
       "<Figure size 576x432 with 1 Axes>"
      ]
     },
     "metadata": {},
     "output_type": "display_data"
    }
   ],
   "source": [
    "plt.figure(figsize=(8,6))\n",
    "dataset_frame.groupby('region').size().plot(kind='pie', startangle=90, ylabel='region', autopct='%.2f%%')"
   ]
  },
  {
   "cell_type": "code",
   "execution_count": 20,
   "id": "8bf82700",
   "metadata": {},
   "outputs": [
    {
     "data": {
      "text/plain": [
       "[Text(0, 0, '324'), Text(0, 0, '325'), Text(0, 0, '364'), Text(0, 0, '325')]"
      ]
     },
     "execution_count": 20,
     "metadata": {},
     "output_type": "execute_result"
    },
    {
     "data": {
      "image/png": "[encoded data removed]",
      "text/plain": [
       "<Figure size 576x432 with 1 Axes>"
      ]
     },
     "metadata": {
      "needs_background": "light"
     },
     "output_type": "display_data"
    }
   ],
   "source": [
    "plt.figure(figsize=(8,6))\n",
    "ax = dataset_frame.groupby('region').size().plot(kind='bar', rot=90, colormap='Set2')\n",
    "ax.bar_label(ax.containers[0])"
   ]
  },
  {
   "cell_type": "markdown",
   "id": "4f35db77",
   "metadata": {},
   "source": [
    "* As it is shown, 'southeast' area has 39-40 more cases comparing to the other areas. "
   ]
  },
  {
   "cell_type": "markdown",
   "id": "265ea036",
   "metadata": {},
   "source": [
    "### Quantitative variables Examining Distributions"
   ]
  },
  {
   "cell_type": "markdown",
   "id": "6e480ac3",
   "metadata": {},
   "source": [
    "* Now we are going to describe the quantitative variables of the dataset."
   ]
  },
  {
   "cell_type": "markdown",
   "id": "09f612ad",
   "metadata": {},
   "source": [
    "#### 1- Children"
   ]
  },
  {
   "cell_type": "code",
   "execution_count": 22,
   "id": "2ba9f240",
   "metadata": {},
   "outputs": [
    {
     "data": {
      "text/plain": [
       "count    1338.000000\n",
       "mean        1.094918\n",
       "std         1.205493\n",
       "min         0.000000\n",
       "25%         0.000000\n",
       "50%         1.000000\n",
       "75%         2.000000\n",
       "max         5.000000\n",
       "Name: children, dtype: float64"
      ]
     },
     "execution_count": 22,
     "metadata": {},
     "output_type": "execute_result"
    }
   ],
   "source": [
    "dataset_frame.children.describe()"
   ]
  },
  {
   "cell_type": "code",
   "execution_count": 80,
   "id": "a4098804",
   "metadata": {},
   "outputs": [
    {
     "data": {
      "text/plain": [
       "[Text(0, 0, '574'),\n",
       " Text(0, 0, '324'),\n",
       " Text(0, 0, '240'),\n",
       " Text(0, 0, '157'),\n",
       " Text(0, 0, '25'),\n",
       " Text(0, 0, '18')]"
      ]
     },
     "execution_count": 80,
     "metadata": {},
     "output_type": "execute_result"
    },
    {
     "data": {
      "image/png": "[encoded data removed]",
      "text/plain": [
       "<Figure size 432x288 with 1 Axes>"
      ]
     },
     "metadata": {
      "needs_background": "light"
     },
     "output_type": "display_data"
    }
   ],
   "source": [
    "ax = dataset_frame['children'].hist(bins=6)\n",
    "ax.bar_label(ax.containers[0])"
   ]
  },
  {
   "cell_type": "code",
   "execution_count": 40,
   "id": "f15cd2d4",
   "metadata": {},
   "outputs": [
    {
     "name": "stdout",
     "output_type": "stream",
     "text": [
      "mode: 0    0\n",
      "dtype: int64\n",
      "mean: 1.0949177877429\n",
      "median: 1.0\n",
      "min: 0\n",
      "max: 5\n",
      "range: 5\n"
     ]
    }
   ],
   "source": [
    "min_ = dataset_frame.children.min()\n",
    "max_ = dataset_frame.children.max()\n",
    "print('mode:', dataset_frame.children.mode())\n",
    "print('mean:', dataset_frame.children.mean())\n",
    "print('median:', dataset_frame.children.median())\n",
    "range_ = max_ - min_\n",
    "print('min:', min_)\n",
    "print('max:', max_)\n",
    "print('range:', range_)"
   ]
  },
  {
   "cell_type": "markdown",
   "id": "da8c8932",
   "metadata": {},
   "source": [
    "* So, as for shape of the histogram, 'children' variable is right-skewed. It is not symmetric. Also it only has one modde. \n",
    "* Center value is 1. The most value existed is 5, to the farthest right. \n",
    "* As for the spread of the feature, min is 0 and max is 5, so the range is 5. \n",
    "* There is no outlier for this feature. "
   ]
  },
  {
   "cell_type": "code",
   "execution_count": 42,
   "id": "c5065b57",
   "metadata": {},
   "outputs": [
    {
     "name": "stdout",
     "output_type": "stream",
     "text": [
      "Q1: 0.0\n",
      "Q3: 2.0\n",
      "IQR: 2.0\n"
     ]
    }
   ],
   "source": [
    "Q25 = dataset_frame.children.quantile(0.25)\n",
    "Q75 = dataset_frame.children.quantile(0.75)\n",
    "IQR = Q75 - Q25\n",
    "print('Q1:', Q25)\n",
    "print('Q3:', Q75)\n",
    "print('IQR:', IQR)"
   ]
  },
  {
   "cell_type": "markdown",
   "id": "b419ecea",
   "metadata": {},
   "source": [
    "* Almost 75% of cases have maximum of 2 children. "
   ]
  },
  {
   "cell_type": "code",
   "execution_count": 47,
   "id": "29e821b2",
   "metadata": {},
   "outputs": [
    {
     "data": {
      "text/plain": [
       "Series([], Name: children, dtype: int64)"
      ]
     },
     "execution_count": 47,
     "metadata": {},
     "output_type": "execute_result"
    }
   ],
   "source": [
    "children_outliers = dataset_frame[(dataset_frame.children < Q25 - 1.5 * IQR) | (dataset_frame.children > Q75 + 1.5 * IQR)]['children']\n",
    "children_outliers"
   ]
  },
  {
   "cell_type": "code",
   "execution_count": 49,
   "id": "d30909d0",
   "metadata": {},
   "outputs": [
    {
     "data": {
      "text/plain": [
       "1.2054927397819095"
      ]
     },
     "execution_count": 49,
     "metadata": {},
     "output_type": "execute_result"
    }
   ],
   "source": [
    "children_std = dataset_frame.children.std()\n",
    "children_std\n"
   ]
  },
  {
   "cell_type": "code",
   "execution_count": 51,
   "id": "61d81ba5",
   "metadata": {},
   "outputs": [
    {
     "data": {
      "text/plain": [
       "Text(0, 0.5, 'Children')"
      ]
     },
     "execution_count": 51,
     "metadata": {},
     "output_type": "execute_result"
    },
    {
     "data": {
      "image/png": "[encoded data removed]",
      "text/plain": [
       "<Figure size 432x288 with 1 Axes>"
      ]
     },
     "metadata": {
      "needs_background": "light"
     },
     "output_type": "display_data"
    }
   ],
   "source": [
    "plt.boxplot(x=dataset_frame.children, labels=['chiildren'])\n",
    "plt.ylabel('Children')"
   ]
  },
  {
   "cell_type": "markdown",
   "id": "f4a1363e",
   "metadata": {},
   "source": [
    "#### 2- Charges"
   ]
  },
  {
   "cell_type": "code",
   "execution_count": 52,
   "id": "b1fc8287",
   "metadata": {},
   "outputs": [
    {
     "data": {
      "text/plain": [
       "count     1338.000000\n",
       "mean     13270.422265\n",
       "std      12110.011237\n",
       "min       1121.873900\n",
       "25%       4740.287150\n",
       "50%       9382.033000\n",
       "75%      16639.912515\n",
       "max      63770.428010\n",
       "Name: charges, dtype: float64"
      ]
     },
     "execution_count": 52,
     "metadata": {},
     "output_type": "execute_result"
    }
   ],
   "source": [
    "dataset_frame.charges.describe()"
   ]
  },
  {
   "cell_type": "code",
   "execution_count": 59,
   "id": "d3da91c1",
   "metadata": {},
   "outputs": [
    {
     "data": {
      "text/plain": [
       "<AxesSubplot:>"
      ]
     },
     "execution_count": 59,
     "metadata": {},
     "output_type": "execute_result"
    },
    {
     "data": {
      "image/png": "[encoded data removed]",
      "text/plain": [
       "<Figure size 432x288 with 1 Axes>"
      ]
     },
     "metadata": {
      "needs_background": "light"
     },
     "output_type": "display_data"
    }
   ],
   "source": [
    "dataset_frame['charges'].hist(bins=20)"
   ]
  },
  {
   "cell_type": "markdown",
   "id": "4f808a75",
   "metadata": {},
   "source": [
    "* As the histogram shows, 'charges' feaature is not a symmetric, but a right-skewed variable. \n",
    "* It somehow can be considered a bimodal variable. \n",
    "* Also we can find the range and extremes of this column at the next cell  output."
   ]
  },
  {
   "cell_type": "code",
   "execution_count": 57,
   "id": "1042540b",
   "metadata": {},
   "outputs": [
    {
     "name": "stdout",
     "output_type": "stream",
     "text": [
      "mode: 0    1639.5631\n",
      "dtype: float64\n",
      "mean: 13270.422265141257\n",
      "median: 9382.033\n",
      "min: 1121.8739\n",
      "max: 63770.42801\n",
      "range: 62648.554110000005\n"
     ]
    }
   ],
   "source": [
    "min_ = dataset_frame.charges.min()\n",
    "max_ = dataset_frame.charges.max()\n",
    "print('mode:', dataset_frame.charges.mode())\n",
    "print('mean:', dataset_frame.charges.mean())\n",
    "print('median:', dataset_frame.charges.median())\n",
    "range_ = max_ - min_\n",
    "print('min:', min_)\n",
    "print('max:', max_)\n",
    "print('range:', range_)"
   ]
  },
  {
   "cell_type": "markdown",
   "id": "9210b832",
   "metadata": {},
   "source": [
    "* Since this is not a symmetric feature, it is good to show the center of it by median, which is 9382, rather than mean with value of 13270. "
   ]
  },
  {
   "cell_type": "code",
   "execution_count": 61,
   "id": "540af1f8",
   "metadata": {},
   "outputs": [
    {
     "name": "stdout",
     "output_type": "stream",
     "text": [
      "Q1: 4740.28715\n",
      "Q3: 16639.912515\n",
      "IQR: 11899.625365\n"
     ]
    }
   ],
   "source": [
    "Q25 = dataset_frame.charges.quantile(0.25)\n",
    "Q75 = dataset_frame.charges.quantile(0.75)\n",
    "IQR = Q75 - Q25\n",
    "print('Q1:', Q25)\n",
    "print('Q3:', Q75)\n",
    "print('IQR:', IQR) "
   ]
  },
  {
   "cell_type": "markdown",
   "id": "c6db4d41",
   "metadata": {},
   "source": [
    "* The IQR can now be used as for calculating the outliers. "
   ]
  },
  {
   "cell_type": "code",
   "execution_count": 62,
   "metadata": {},
   "outputs": [
    {
     "data": {
      "text/plain": [
       "14      39611.75770\n",
       "19      36837.46700\n",
       "23      37701.87680\n",
       "29      38711.00000\n",
       "30      35585.57600\n",
       "           ...     \n",
       "1300    62592.87309\n",
       "1301    46718.16325\n",
       "1303    37829.72420\n",
       "1313    36397.57600\n",
       "1323    43896.37630\n",
       "Name: charges, Length: 139, dtype: float64"
      ]
     },
     "execution_count": 62,
     "metadata": {},
     "output_type": "execute_result"
    }
   ],
   "source": [
    "charges_outliers = dataset_frame[(dataset_frame.charges < Q25 - 1.5 * IQR) | (dataset_frame.charges > Q75 + 1.5 * IQR)]['charges']\n",
    "charges_outliers"
   ]
  },
  {
   "cell_type": "markdown",
   "id": "60b03cd5",
   "metadata": {},
   "source": [
    "The number of outliers is outstanding. Can be considerable!"
   ]
  },
  {
   "cell_type": "code",
   "execution_count": 63,
   "id": "6c5251f0",
   "metadata": {},
   "outputs": [
    {
     "data": {
      "text/plain": [
       "12110.011236693994"
      ]
     },
     "execution_count": 63,
     "metadata": {},
     "output_type": "execute_result"
    }
   ],
   "source": [
    "charges_std = dataset_frame.charges.std()\n",
    "charges_std"
   ]
  },
  {
   "cell_type": "markdown",
   "id": "5e97cda3",
   "metadata": {},
   "source": [
    "* The mean is 13270, and standard deviation is 12110. So mean (+/-) 3sigma gives -23060 and 49600. \n",
    "* So any thing out of this bound can be considered as an outlier, instead of the previous method. \n",
    "* However, as this variable is not symmetric, we can not be hundred percent sure to use the second way of finding outliers. \n",
    "* We would be better to investigate more about the reason of outliers existence. Maybe we should not remove them at at all!"
   ]
  },
  {
   "cell_type": "code",
   "execution_count": 64,
   "id": "d176790c",
   "metadata": {},
   "outputs": [
    {
     "data": {
      "text/plain": [
       "Text(0, 0.5, 'charges')"
      ]
     },
     "execution_count": 64,
     "metadata": {},
     "output_type": "execute_result"
    },
    {
     "data": {
      "image/png": "[encoded data removed]",
      "text/plain": [
       "<Figure size 432x288 with 1 Axes>"
      ]
     },
     "metadata": {
      "needs_background": "light"
     },
     "output_type": "display_data"
    }
   ],
   "source": [
    "plt.boxplot(x=dataset_frame.charges, labels=['charges'])\n",
    "plt.ylabel('charges')"
   ]
  },
  {
   "cell_type": "markdown",
   "id": "fbb8d1e7",
   "metadata": {},
   "source": [
    "#### 3- Age"
   ]
  },
  {
   "cell_type": "code",
   "execution_count": 65,
   "id": "1fb8644b",
   "metadata": {},
   "outputs": [
    {
     "data": {
      "text/plain": [
       "<AxesSubplot:>"
      ]
     },
     "execution_count": 65,
     "metadata": {},
     "output_type": "execute_result"
    },
    {
     "data": {
      "image/png": "[encoded data removed]",
      "text/plain": [
       "<Figure size 432x288 with 1 Axes>"
      ]
     },
     "metadata": {
      "needs_background": "light"
     },
     "output_type": "display_data"
    }
   ],
   "source": [
    "dataset_frame['age'].hist(bins=20)"
   ]
  },
  {
   "cell_type": "markdown",
   "id": "e6da6930",
   "metadata": {},
   "source": [
    "* This histogram shows that this variable 'age' is definitely not any skewed but a symmetric one.\n",
    "* It is a multi modal one, having 7 modes. Or we can reconsider it as a bimodal variable, as for the first bar and the one at value of 50. \n",
    "* Extremes and range are presentd in the next cell. "
   ]
  },
  {
   "cell_type": "code",
   "execution_count": 66,
   "id": "9f96e56a",
   "metadata": {},
   "outputs": [
    {
     "name": "stdout",
     "output_type": "stream",
     "text": [
      "mode: 0    18\n",
      "dtype: int64\n",
      "mean: 39.20702541106129\n",
      "median: 39.0\n",
      "min: 18\n",
      "max: 64\n",
      "range: 46\n"
     ]
    }
   ],
   "source": [
    "min_ = dataset_frame.age.min()\n",
    "max_ = dataset_frame.age.max()\n",
    "print('mode:', dataset_frame.age.mode())\n",
    "print('mean:', dataset_frame.age.mean())\n",
    "print('median:', dataset_frame.age.median())\n",
    "range_ = max_ - min_\n",
    "print('min:', min_)\n",
    "print('max:', max_)\n",
    "print('range:', range_)"
   ]
  },
  {
   "cell_type": "code",
   "execution_count": 67,
   "id": "a69d1428",
   "metadata": {},
   "outputs": [
    {
     "name": "stdout",
     "output_type": "stream",
     "text": [
      "Q1: 27.0\n",
      "Q3: 51.0\n",
      "IQR: 24.0\n"
     ]
    }
   ],
   "source": [
    "Q25 = dataset_frame.age.quantile(0.25)\n",
    "Q75 = dataset_frame.age.quantile(0.75)\n",
    "IQR = Q75 - Q25\n",
    "print('Q1:', Q25)\n",
    "print('Q3:', Q75)\n",
    "print('IQR:', IQR)"
   ]
  },
  {
   "cell_type": "code",
   "execution_count": 68,
   "id": "48107d4a",
   "metadata": {},
   "outputs": [
    {
     "data": {
      "text/plain": [
       "Series([], Name: age, dtype: int64)"
      ]
     },
     "execution_count": 68,
     "metadata": {},
     "output_type": "execute_result"
    }
   ],
   "source": [
    "age_outliers = dataset_frame[(dataset_frame.age < Q25 - 1.5 * IQR) | (dataset_frame.age > Q75 + 1.5 * IQR)]['age']\n",
    "age_outliers"
   ]
  },
  {
   "cell_type": "markdown",
   "id": "fdaa29f6",
   "metadata": {},
   "source": [
    "* This shows that there is no ooutlier in 'age' feature. "
   ]
  },
  {
   "cell_type": "code",
   "execution_count": 69,
   "id": "b608ed53",
   "metadata": {},
   "outputs": [
    {
     "data": {
      "text/plain": [
       "14.049960379216172"
      ]
     },
     "execution_count": 69,
     "metadata": {},
     "output_type": "execute_result"
    }
   ],
   "source": [
    "age_std = dataset_frame.age.std()\n",
    "age_std"
   ]
  },
  {
   "cell_type": "markdown",
   "id": "63c72bed",
   "metadata": {},
   "source": [
    "* With this standard deviation, even 3 sigma represents no outliers for this dcolumn. "
   ]
  },
  {
   "cell_type": "code",
   "execution_count": 70,
   "id": "34e6361f",
   "metadata": {},
   "outputs": [
    {
     "data": {
      "text/plain": [
       "Text(0, 0.5, 'age')"
      ]
     },
     "execution_count": 70,
     "metadata": {},
     "output_type": "execute_result"
    },
    {
     "data": {
      "image/png": "[encoded data removed]",
      "text/plain": [
       "<Figure size 432x288 with 1 Axes>"
      ]
     },
     "metadata": {
      "needs_background": "light"
     },
     "output_type": "display_data"
    }
   ],
   "source": [
    "plt.boxplot(x=dataset_frame.age, labels=['age'])\n",
    "plt.ylabel('age')"
   ]
  },
  {
   "cell_type": "markdown",
   "id": "087042a5",
   "metadata": {},
   "source": [
    "* As it suggests, the 'age' is fairly normal. "
   ]
  },
  {
   "cell_type": "markdown",
   "id": "a8590e0c",
   "metadata": {},
   "source": [
    "#### 4- BMI"
   ]
  },
  {
   "cell_type": "code",
   "execution_count": 71,
   "id": "21dd5bb9",
   "metadata": {},
   "outputs": [
    {
     "data": {
      "text/plain": [
       "<AxesSubplot:>"
      ]
     },
     "execution_count": 71,
     "metadata": {},
     "output_type": "execute_result"
    },
    {
     "data": {
      "image/png": "[encoded data removed]",
      "text/plain": [
       "<Figure size 432x288 with 1 Axes>"
      ]
     },
     "metadata": {
      "needs_background": "light"
     },
     "output_type": "display_data"
    }
   ],
   "source": [
    "dataset_frame['bmi'].hist(bins=20)"
   ]
  },
  {
   "cell_type": "markdown",
   "id": "cfbf20b5",
   "metadata": {},
   "source": [
    "* 'bmi' is a normal variable, and it shows a symmetric normal distribution. \n",
    "* There is no skewness in the data. "
   ]
  },
  {
   "cell_type": "code",
   "execution_count": 72,
   "id": "f27e91b6",
   "metadata": {},
   "outputs": [
    {
     "name": "stdout",
     "output_type": "stream",
     "text": [
      "mode: 0    32.3\n",
      "dtype: float64\n",
      "mean: 30.663396860986538\n",
      "median: 30.4\n",
      "min: 15.96\n",
      "max: 53.13\n",
      "range: 37.17\n"
     ]
    }
   ],
   "source": [
    "min_ = dataset_frame.bmi.min()\n",
    "max_ = dataset_frame.bmi.max()\n",
    "print('mode:', dataset_frame.bmi.mode())\n",
    "print('mean:', dataset_frame.bmi.mean())\n",
    "print('median:', dataset_frame.bmi.median())\n",
    "range_ = max_ - min_\n",
    "print('min:', min_)\n",
    "print('max:', max_)\n",
    "print('range:', range_)"
   ]
  },
  {
   "cell_type": "markdown",
   "id": "74c62a6f",
   "metadata": {},
   "source": [
    "* As for spread criteria, the range is 37 for this feature. "
   ]
  },
  {
   "cell_type": "code",
   "execution_count": 73,
   "id": "c9fef3cb",
   "metadata": {},
   "outputs": [
    {
     "name": "stdout",
     "output_type": "stream",
     "text": [
      "Q1: 26.29625\n",
      "Q3: 34.69375\n",
      "IQR: 8.3975\n"
     ]
    }
   ],
   "source": [
    "Q25 = dataset_frame.bmi.quantile(0.25)\n",
    "Q75 = dataset_frame.bmi.quantile(0.75)\n",
    "IQR = Q75 - Q25\n",
    "print('Q1:', Q25)\n",
    "print('Q3:', Q75)\n",
    "print('IQR:', IQR)"
   ]
  },
  {
   "cell_type": "code",
   "execution_count": 81,
   "id": "78baef6a",
   "metadata": {},
   "outputs": [
    {
     "data": {
      "text/plain": [
       "116     49.06\n",
       "286     48.07\n",
       "401     47.52\n",
       "543     47.41\n",
       "847     50.38\n",
       "860     47.60\n",
       "1047    52.58\n",
       "1088    47.74\n",
       "1317    53.13\n",
       "Name: bmi, dtype: float64"
      ]
     },
     "execution_count": 81,
     "metadata": {},
     "output_type": "execute_result"
    }
   ],
   "source": [
    "bmi_outliers = dataset_frame[(dataset_frame.bmi < Q25 - 1.5 * IQR) | (dataset_frame.bmi > Q75 + 1.5 * IQR)]['bmi']\n",
    "bmi_outliers"
   ]
  },
  {
   "cell_type": "markdown",
   "id": "6a99281b",
   "metadata": {},
   "source": [
    "* This should not be the list of outliers, because it is symmetric, and mean can be considered as the center point of the distribution. "
   ]
  },
  {
   "cell_type": "code",
   "execution_count": 75,
   "id": "07bb1319",
   "metadata": {},
   "outputs": [
    {
     "data": {
      "text/plain": [
       "6.098186911679017"
      ]
     },
     "execution_count": 75,
     "metadata": {},
     "output_type": "execute_result"
    }
   ],
   "source": [
    "bmi_std = dataset_frame.bmi.std()\n",
    "bmi_std"
   ]
  },
  {
   "cell_type": "markdown",
   "id": "c4a71b50",
   "metadata": {},
   "source": [
    "* Maybe considering the 3 sigma for determining the outlier is a better option. This way, the number of outliers reduces from 9 to 5. "
   ]
  },
  {
   "cell_type": "code",
   "execution_count": 76,
   "id": "fa66c698",
   "metadata": {},
   "outputs": [
    {
     "data": {
      "text/plain": [
       "Text(0, 0.5, 'bmi')"
      ]
     },
     "execution_count": 76,
     "metadata": {},
     "output_type": "execute_result"
    },
    {
     "data": {
      "image/png": "[encoded data removed]",
      "text/plain": [
       "<Figure size 432x288 with 1 Axes>"
      ]
     },
     "metadata": {
      "needs_background": "light"
     },
     "output_type": "display_data"
    }
   ],
   "source": [
    "plt.boxplot(x=dataset_frame.bmi, labels=['bmi'])\n",
    "plt.ylabel('bmi')"
   ]
  },
  {
   "cell_type": "markdown",
   "id": "4a017723",
   "metadata": {},
   "source": [
    "The box plot clearly demonstrate 5 numbers (min, Q1, M, Q3, max), and how symmetric the variable is. "
   ]
  }
 ],
 "metadata": {
  "kernelspec": {
   "display_name": "Python 3 (ipykernel)",
   "language": "python",
   "name": "python3"
  },
  "language_info": {
   "codemirror_mode": {
    "name": "ipython",
    "version": 3
   },
   "file_extension": ".py",
   "mimetype": "text/x-python",
   "name": "python",
   "nbconvert_exporter": "python",
   "pygments_lexer": "ipython3",
   "version": "3.9.7"
  }
 },
 "nbformat": 4,
 "nbformat_minor": 5
}
